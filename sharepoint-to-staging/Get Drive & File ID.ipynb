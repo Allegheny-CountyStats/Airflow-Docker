{
 "cells": [
  {
   "cell_type": "markdown",
   "metadata": {},
   "source": [
    "The purpose of this Notebook is to use the Microsoft Graph API to find the Drive ID and File ID for automating the pull in Airflow"
   ]
  },
  {
   "cell_type": "code",
   "execution_count": null,
   "metadata": {},
   "outputs": [],
   "source": [
    "from oauthlib.oauth2 import BackendApplicationClient\n",
    "from requests.auth import HTTPBasicAuth\n",
    "from requests_oauthlib import OAuth2Session\n",
    "import requests\n",
    "import json\n",
    "import urllib.parse\n",
    "import pandas as pd\n",
    "import os\n",
    "import sys \n",
    "from dotenv import load_dotenv\n",
    "\n",
    "load_dotenv()\n",
    "\n",
    "os.chdir(sys.path[0])\n",
    "\n",
    "pd.set_option('display.max_colwidth',1000)"
   ]
  },
  {
   "cell_type": "markdown",
   "metadata": {},
   "source": [
    "Fill out information to correctly search for the file you want:"
   ]
  },
  {
   "cell_type": "code",
   "execution_count": null,
   "metadata": {},
   "outputs": [],
   "source": [
    "client_id = os.getenv(\"client_id\")\n",
    "client_secret = os.getenv(\"client_secret\")\n",
    "drive_type = 'sites' # drive for user (other for sharepoint sites)\n",
    "drive_name = 'ACHD Food Safety' # Use Sharepoint display name\n",
    "file_name = 'xlsx'\n",
    "file_name = 'Food Safety Area Assignment.xlsx'\n",
    "parsed_name = urllib.parse.quote(file_name)"
   ]
  },
  {
   "cell_type": "markdown",
   "metadata": {},
   "source": [
    "Auth Token"
   ]
  },
  {
   "cell_type": "code",
   "execution_count": null,
   "metadata": {},
   "outputs": [],
   "source": [
    "auth = HTTPBasicAuth(client_id, client_secret)\n",
    "client = BackendApplicationClient(client_id = client_id)\n",
    "oauth = OAuth2Session(client=client)\n",
    "\n",
    "token = oauth.fetch_token(token_url='https://login.microsoftonline.com/e0273d12-e4cb-4eb1-9f70-8bba16fb968d/oauth2/v2.0/token',\n",
    "                          scope = 'https://graph.microsoft.com/.default',\n",
    "                          auth = auth,\n",
    "                          verify = False)\n",
    "\n",
    "bearer = \"Bearer {}\".format(token['access_token'])"
   ]
  },
  {
   "cell_type": "markdown",
   "metadata": {},
   "source": [
    "Search for drive and get list of visible files"
   ]
  },
  {
   "cell_type": "code",
   "execution_count": null,
   "metadata": {
    "tags": []
   },
   "outputs": [],
   "source": [
    "if drive_type == 'drives':\n",
    "    # Get User Drive ID\n",
    "    url = \"https://graph.microsoft.com/v1.0/users/{}/drive\".format(drive_name)\n",
    "    payload = \"\"\n",
    "    headers = {'authorization': bearer}\n",
    "    response = requests.request(\"GET\", url, data=payload, headers=headers)\n",
    "    drive = response.json()\n",
    "\n",
    "    drive_id = drive['id']\n",
    "    # Search Files\n",
    "    url = \"https://graph.microsoft.com/v1.0/drives/{}/search(q=%27{}%27)\".format(drive_id, parsed_name)\n",
    "    search_r = requests.request(\"GET\", url, data=payload, headers=headers)\n",
    "    j = search_r.json()['value']\n",
    "else:\n",
    "    url = \"https://graph.microsoft.com/v1.0/sites?search={}\".format(drive_name)\n",
    "    payload = \"\"\n",
    "    headers = {'authorization': bearer}\n",
    "    response = requests.request(\"GET\", url, data=payload, headers=headers)\n",
    "    drive = response.json()\n",
    "\n",
    "    long = drive['value'][0]['id']\n",
    "    site_id = long.split(',')[1]\n",
    "\n",
    "    # Get Sharepoint Site Drive ID from DIT\n",
    "    url = \"https://graph.microsoft.com/v1.0/sites/{}/drive/search(q=%27{}%27)\".format(site_id, parsed_name)\n",
    "\n",
    "    search_r = requests.request(\"GET\", url, data=payload, headers=headers)\n",
    "\n",
    "    j = search_r.json()['value']"
   ]
  },
  {
   "cell_type": "markdown",
   "metadata": {},
   "source": [
    "ID For User/Site Drive"
   ]
  },
  {
   "cell_type": "code",
   "execution_count": null,
   "metadata": {},
   "outputs": [],
   "source": [
    "if drive_type == 'drives':\n",
    "    print(drive_id)\n",
    "else:\n",
    "    print(site_id)"
   ]
  },
  {
   "cell_type": "markdown",
   "metadata": {},
   "source": [
    "Filters Data and shows the most recent files with matching name. Use the value in the id column if this is the correct file"
   ]
  },
  {
   "cell_type": "code",
   "execution_count": null,
   "metadata": {},
   "outputs": [],
   "source": [
    "results = pd.DataFrame.from_dict(j)\n",
    "\n",
    "results = results.sort_values(by = 'createdDateTime', ascending=False).reset_index(drop=True)\n",
    "filt = results[results[\"name\"].str.contains(file_name)]\n",
    "filt.head(50)"
   ]
  },
  {
   "cell_type": "markdown",
   "metadata": {},
   "source": [
    "If for some reason the filtered dataset does not contain the file you need use the unfiltered list of files"
   ]
  },
  {
   "cell_type": "code",
   "execution_count": null,
   "metadata": {},
   "outputs": [],
   "source": [
    "results.head(10)"
   ]
  }
 ],
 "metadata": {
  "kernelspec": {
   "display_name": "Python 3 (ipykernel)",
   "language": "python",
   "name": "python3"
  },
  "language_info": {
   "codemirror_mode": {
    "name": "ipython",
    "version": 3
   },
   "file_extension": ".py",
   "mimetype": "text/x-python",
   "name": "python",
   "nbconvert_exporter": "python",
   "pygments_lexer": "ipython3",
   "version": "3.9.12"
  }
 },
 "nbformat": 4,
 "nbformat_minor": 4
}
